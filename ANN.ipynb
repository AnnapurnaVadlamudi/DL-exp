{
  "nbformat": 4,
  "nbformat_minor": 0,
  "metadata": {
    "colab": {
      "provenance": [],
      "authorship_tag": "ABX9TyMNrBBd8bcNzSShA3a/Ybxq",
      "include_colab_link": true
    },
    "kernelspec": {
      "name": "python3",
      "display_name": "Python 3"
    },
    "language_info": {
      "name": "python"
    }
  },
  "cells": [
    {
      "cell_type": "markdown",
      "metadata": {
        "id": "view-in-github",
        "colab_type": "text"
      },
      "source": [
        "<a href=\"https://colab.research.google.com/github/AnnapurnaVadlamudi/DL-exp/blob/main/ANN.ipynb\" target=\"_parent\"><img src=\"https://colab.research.google.com/assets/colab-badge.svg\" alt=\"Open In Colab\"/></a>"
      ]
    },
    {
      "cell_type": "code",
      "execution_count": null,
      "metadata": {
        "id": "EuqWDKs5zRth"
      },
      "outputs": [],
      "source": [
        "import tensorflow as tf\n",
        "from tensorflow.keras import datasets,layers,models\n",
        "import matplotlib.pyplot as plt\n",
        "import numpy as np\n",
        "\n"
      ]
    },
    {
      "cell_type": "code",
      "source": [
        "(x_train,y_train),(x_test,y_test)=datasets.cifar10.load_data()\n"
      ],
      "metadata": {
        "id": "gaOHKiGK1tHE"
      },
      "execution_count": null,
      "outputs": []
    },
    {
      "cell_type": "code",
      "source": [
        "x_train.shape"
      ],
      "metadata": {
        "colab": {
          "base_uri": "https://localhost:8080/"
        },
        "id": "KYrUjvyf13Ys",
        "outputId": "4f1c326f-b50f-42fc-f7d2-6e81e83997d5"
      },
      "execution_count": null,
      "outputs": [
        {
          "output_type": "execute_result",
          "data": {
            "text/plain": [
              "(50000, 32, 32, 3)"
            ]
          },
          "metadata": {},
          "execution_count": 12
        }
      ]
    },
    {
      "cell_type": "code",
      "source": [
        "y_train.shape\n",
        "y_train[:50]\n"
      ],
      "metadata": {
        "colab": {
          "base_uri": "https://localhost:8080/"
        },
        "id": "qr6jKcPc1dpl",
        "outputId": "200b6218-cad4-4115-fce2-0c11e33221af"
      },
      "execution_count": null,
      "outputs": [
        {
          "output_type": "execute_result",
          "data": {
            "text/plain": [
              "array([[6],\n",
              "       [9],\n",
              "       [9],\n",
              "       [4],\n",
              "       [1],\n",
              "       [1],\n",
              "       [2],\n",
              "       [7],\n",
              "       [8],\n",
              "       [3],\n",
              "       [4],\n",
              "       [7],\n",
              "       [7],\n",
              "       [2],\n",
              "       [9],\n",
              "       [9],\n",
              "       [9],\n",
              "       [3],\n",
              "       [2],\n",
              "       [6],\n",
              "       [4],\n",
              "       [3],\n",
              "       [6],\n",
              "       [6],\n",
              "       [2],\n",
              "       [6],\n",
              "       [3],\n",
              "       [5],\n",
              "       [4],\n",
              "       [0],\n",
              "       [0],\n",
              "       [9],\n",
              "       [1],\n",
              "       [3],\n",
              "       [4],\n",
              "       [0],\n",
              "       [3],\n",
              "       [7],\n",
              "       [3],\n",
              "       [3],\n",
              "       [5],\n",
              "       [2],\n",
              "       [2],\n",
              "       [7],\n",
              "       [1],\n",
              "       [1],\n",
              "       [1],\n",
              "       [2],\n",
              "       [2],\n",
              "       [0]], dtype=uint8)"
            ]
          },
          "metadata": {},
          "execution_count": 13
        }
      ]
    },
    {
      "cell_type": "code",
      "source": [
        "classes=[\"aeroplane\",\"automobiles\",\"bird\",\"cat\",\"deer\",\"dog\",\"frog\",\"horse\",\"ship\",\"truck\"]\n",
        "def plot_sample(x,y,index):\n",
        "   plt.figure(figsize=(15,2))\n",
        "   plt.imshow(x[index])\n",
        "   plt.xlabel(classes[y[index]])\n",
        "#plot_sample(x_train,y_train,4)\n"
      ],
      "metadata": {
        "id": "8FOLpzrK3z9c"
      },
      "execution_count": null,
      "outputs": []
    },
    {
      "cell_type": "code",
      "source": [
        "y_train=y_train.reshape(-1,)\n",
        "y_test=y_test.reshape(-1,)\n"
      ],
      "metadata": {
        "id": "Y9hDTCBd5yIi"
      },
      "execution_count": null,
      "outputs": []
    },
    {
      "cell_type": "code",
      "source": [
        "plot_sample(x_train,y_train,4)"
      ],
      "metadata": {
        "colab": {
          "base_uri": "https://localhost:8080/",
          "height": 237
        },
        "id": "EpG6fENlqf_2",
        "outputId": "fe683938-cb21-40aa-d0bf-3b1170b46f61"
      },
      "execution_count": null,
      "outputs": [
        {
          "output_type": "display_data",
          "data": {
            "text/plain": [
              "<Figure size 1500x200 with 1 Axes>"
            ],
            "image/png": "[encoded data removed]"
          },
          "metadata": {}
        }
      ]
    },
    {
      "cell_type": "code",
      "source": [
        "x_train=x_train/255.0\n",
        "x_test=x_test/255.0"
      ],
      "metadata": {
        "id": "BXz2zxzl41Bj"
      },
      "execution_count": null,
      "outputs": []
    },
    {
      "cell_type": "code",
      "source": [
        "ann=models.Sequential([layers.Flatten(input_shape=(32,32,3)),layers.Dense(3000,activation='relu'),layers.Dense(3000,activation='relu'),layers.Dense(1000,activation='softmax')])"
      ],
      "metadata": {
        "id": "Ih2FYl6Q4Mf8"
      },
      "execution_count": null,
      "outputs": []
    },
    {
      "cell_type": "code",
      "source": [
        "ann.compile(optimizer='SGD',loss='sparse_categirical_crossentropy',metrics=['accuracy'])\n",
        "ann.fit(x_train,y_train,epochs=5)\n",
        "\n"
      ],
      "metadata": {
        "id": "LMg__6C0B7Eo"
      },
      "execution_count": null,
      "outputs": []
    },
    {
      "cell_type": "code",
      "source": [
        "from sklearn.metrics import confusion_matrix,classification_report\n",
        "y_pred=ann.predict(x_test)\n",
        "y_pred_classes=[np.argmax(ele)for ele in y_pred]\n",
        "print(\"Classifaction_report\",classification_report(y_test,y_pred_classes))"
      ],
      "metadata": {
        "colab": {
          "base_uri": "https://localhost:8080/"
        },
        "id": "G7UG_uuBEezG",
        "outputId": "e8df359a-ac79-4fdc-c7fa-3a4075c71e3d"
      },
      "execution_count": null,
      "outputs": [
        {
          "output_type": "stream",
          "name": "stdout",
          "text": [
            "313/313 [==============================] - 18s 58ms/step\n",
            "Classifaction_report               precision    recall  f1-score   support\n",
            "\n",
            "           0       0.00      0.00      0.00    1000.0\n",
            "           1       0.00      0.00      0.00    1000.0\n",
            "           2       0.00      0.00      0.00    1000.0\n",
            "           3       0.00      0.00      0.00    1000.0\n",
            "           4       0.00      0.00      0.00    1000.0\n",
            "           5       0.00      0.00      0.00    1000.0\n",
            "           6       0.00      0.00      0.00    1000.0\n",
            "           7       0.00      0.00      0.00    1000.0\n",
            "           8       0.00      0.00      0.00    1000.0\n",
            "           9       0.00      0.00      0.00    1000.0\n",
            "          20       0.00      0.00      0.00       0.0\n",
            "          28       0.00      0.00      0.00       0.0\n",
            "          68       0.00      0.00      0.00       0.0\n",
            "          72       0.00      0.00      0.00       0.0\n",
            "          86       0.00      0.00      0.00       0.0\n",
            "          91       0.00      0.00      0.00       0.0\n",
            "         114       0.00      0.00      0.00       0.0\n",
            "         128       0.00      0.00      0.00       0.0\n",
            "         178       0.00      0.00      0.00       0.0\n",
            "         182       0.00      0.00      0.00       0.0\n",
            "         260       0.00      0.00      0.00       0.0\n",
            "         300       0.00      0.00      0.00       0.0\n",
            "         323       0.00      0.00      0.00       0.0\n",
            "         353       0.00      0.00      0.00       0.0\n",
            "         400       0.00      0.00      0.00       0.0\n",
            "         412       0.00      0.00      0.00       0.0\n",
            "         421       0.00      0.00      0.00       0.0\n",
            "         430       0.00      0.00      0.00       0.0\n",
            "         444       0.00      0.00      0.00       0.0\n",
            "         464       0.00      0.00      0.00       0.0\n",
            "         468       0.00      0.00      0.00       0.0\n",
            "         517       0.00      0.00      0.00       0.0\n",
            "         530       0.00      0.00      0.00       0.0\n",
            "         571       0.00      0.00      0.00       0.0\n",
            "         623       0.00      0.00      0.00       0.0\n",
            "         627       0.00      0.00      0.00       0.0\n",
            "         675       0.00      0.00      0.00       0.0\n",
            "         701       0.00      0.00      0.00       0.0\n",
            "         715       0.00      0.00      0.00       0.0\n",
            "         720       0.00      0.00      0.00       0.0\n",
            "         808       0.00      0.00      0.00       0.0\n",
            "         812       0.00      0.00      0.00       0.0\n",
            "         865       0.00      0.00      0.00       0.0\n",
            "         894       0.00      0.00      0.00       0.0\n",
            "         937       0.00      0.00      0.00       0.0\n",
            "         959       0.00      0.00      0.00       0.0\n",
            "         973       0.00      0.00      0.00       0.0\n",
            "         982       0.00      0.00      0.00       0.0\n",
            "         994       0.00      0.00      0.00       0.0\n",
            "\n",
            "    accuracy                           0.00   10000.0\n",
            "   macro avg       0.00      0.00      0.00   10000.0\n",
            "weighted avg       0.00      0.00      0.00   10000.0\n",
            "\n"
          ]
        },
        {
          "output_type": "stream",
          "name": "stderr",
          "text": [
            "/usr/local/lib/python3.10/dist-packages/sklearn/metrics/_classification.py:1344: UndefinedMetricWarning: Precision and F-score are ill-defined and being set to 0.0 in labels with no predicted samples. Use `zero_division` parameter to control this behavior.\n",
            "  _warn_prf(average, modifier, msg_start, len(result))\n",
            "/usr/local/lib/python3.10/dist-packages/sklearn/metrics/_classification.py:1344: UndefinedMetricWarning: Recall and F-score are ill-defined and being set to 0.0 in labels with no true samples. Use `zero_division` parameter to control this behavior.\n",
            "  _warn_prf(average, modifier, msg_start, len(result))\n",
            "/usr/local/lib/python3.10/dist-packages/sklearn/metrics/_classification.py:1344: UndefinedMetricWarning: Precision and F-score are ill-defined and being set to 0.0 in labels with no predicted samples. Use `zero_division` parameter to control this behavior.\n",
            "  _warn_prf(average, modifier, msg_start, len(result))\n",
            "/usr/local/lib/python3.10/dist-packages/sklearn/metrics/_classification.py:1344: UndefinedMetricWarning: Recall and F-score are ill-defined and being set to 0.0 in labels with no true samples. Use `zero_division` parameter to control this behavior.\n",
            "  _warn_prf(average, modifier, msg_start, len(result))\n",
            "/usr/local/lib/python3.10/dist-packages/sklearn/metrics/_classification.py:1344: UndefinedMetricWarning: Precision and F-score are ill-defined and being set to 0.0 in labels with no predicted samples. Use `zero_division` parameter to control this behavior.\n",
            "  _warn_prf(average, modifier, msg_start, len(result))\n",
            "/usr/local/lib/python3.10/dist-packages/sklearn/metrics/_classification.py:1344: UndefinedMetricWarning: Recall and F-score are ill-defined and being set to 0.0 in labels with no true samples. Use `zero_division` parameter to control this behavior.\n",
            "  _warn_prf(average, modifier, msg_start, len(result))\n"
          ]
        }
      ]
    }
  ]
}